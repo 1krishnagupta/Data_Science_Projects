{
 "cells": [
  {
   "cell_type": "code",
   "execution_count": 1,
   "id": "9c87427b",
   "metadata": {},
   "outputs": [
    {
     "name": "stdout",
     "output_type": "stream",
     "text": [
      "        N   P   K  temperature   humidity        ph    rainfall   label\n",
      "0      90  42  43    20.879744  82.002744  6.502985  202.935536    rice\n",
      "1      85  58  41    21.770462  80.319644  7.038096  226.655537    rice\n",
      "2      60  55  44    23.004459  82.320763  7.840207  263.964248    rice\n",
      "3      74  35  40    26.491096  80.158363  6.980401  242.864034    rice\n",
      "4      78  42  42    20.130175  81.604873  7.628473  262.717340    rice\n",
      "...   ...  ..  ..          ...        ...       ...         ...     ...\n",
      "2195  107  34  32    26.774637  66.413269  6.780064  177.774507  coffee\n",
      "2196   99  15  27    27.417112  56.636362  6.086922  127.924610  coffee\n",
      "2197  118  33  30    24.131797  67.225123  6.362608  173.322839  coffee\n",
      "2198  117  32  34    26.272418  52.127394  6.758793  127.175293  coffee\n",
      "2199  104  18  30    23.603016  60.396475  6.779833  140.937041  coffee\n",
      "\n",
      "[2200 rows x 8 columns]\n"
     ]
    }
   ],
   "source": [
    "import numpy as np\n",
    "import pandas as pd\n",
    "import matplotlib.pyplot as plt\n",
    "import seaborn as sns\n",
    "from ipywidgets import *\n",
    "\n",
    "df = pd.read_csv(\"data.csv\")\n",
    "print(df)"
   ]
  },
  {
   "cell_type": "code",
   "execution_count": 2,
   "id": "a4f71dbd",
   "metadata": {},
   "outputs": [
    {
     "data": {
      "text/html": [
       "<div>\n",
       "<style scoped>\n",
       "    .dataframe tbody tr th:only-of-type {\n",
       "        vertical-align: middle;\n",
       "    }\n",
       "\n",
       "    .dataframe tbody tr th {\n",
       "        vertical-align: top;\n",
       "    }\n",
       "\n",
       "    .dataframe thead th {\n",
       "        text-align: right;\n",
       "    }\n",
       "</style>\n",
       "<table border=\"1\" class=\"dataframe\">\n",
       "  <thead>\n",
       "    <tr style=\"text-align: right;\">\n",
       "      <th></th>\n",
       "      <th>N</th>\n",
       "      <th>P</th>\n",
       "      <th>K</th>\n",
       "      <th>temperature</th>\n",
       "      <th>humidity</th>\n",
       "      <th>ph</th>\n",
       "      <th>rainfall</th>\n",
       "      <th>label</th>\n",
       "    </tr>\n",
       "  </thead>\n",
       "  <tbody>\n",
       "    <tr>\n",
       "      <th>0</th>\n",
       "      <td>False</td>\n",
       "      <td>False</td>\n",
       "      <td>False</td>\n",
       "      <td>False</td>\n",
       "      <td>False</td>\n",
       "      <td>False</td>\n",
       "      <td>False</td>\n",
       "      <td>False</td>\n",
       "    </tr>\n",
       "    <tr>\n",
       "      <th>1</th>\n",
       "      <td>False</td>\n",
       "      <td>False</td>\n",
       "      <td>False</td>\n",
       "      <td>False</td>\n",
       "      <td>False</td>\n",
       "      <td>False</td>\n",
       "      <td>False</td>\n",
       "      <td>False</td>\n",
       "    </tr>\n",
       "    <tr>\n",
       "      <th>2</th>\n",
       "      <td>False</td>\n",
       "      <td>False</td>\n",
       "      <td>False</td>\n",
       "      <td>False</td>\n",
       "      <td>False</td>\n",
       "      <td>False</td>\n",
       "      <td>False</td>\n",
       "      <td>False</td>\n",
       "    </tr>\n",
       "    <tr>\n",
       "      <th>3</th>\n",
       "      <td>False</td>\n",
       "      <td>False</td>\n",
       "      <td>False</td>\n",
       "      <td>False</td>\n",
       "      <td>False</td>\n",
       "      <td>False</td>\n",
       "      <td>False</td>\n",
       "      <td>False</td>\n",
       "    </tr>\n",
       "    <tr>\n",
       "      <th>4</th>\n",
       "      <td>False</td>\n",
       "      <td>False</td>\n",
       "      <td>False</td>\n",
       "      <td>False</td>\n",
       "      <td>False</td>\n",
       "      <td>False</td>\n",
       "      <td>False</td>\n",
       "      <td>False</td>\n",
       "    </tr>\n",
       "    <tr>\n",
       "      <th>...</th>\n",
       "      <td>...</td>\n",
       "      <td>...</td>\n",
       "      <td>...</td>\n",
       "      <td>...</td>\n",
       "      <td>...</td>\n",
       "      <td>...</td>\n",
       "      <td>...</td>\n",
       "      <td>...</td>\n",
       "    </tr>\n",
       "    <tr>\n",
       "      <th>2195</th>\n",
       "      <td>False</td>\n",
       "      <td>False</td>\n",
       "      <td>False</td>\n",
       "      <td>False</td>\n",
       "      <td>False</td>\n",
       "      <td>False</td>\n",
       "      <td>False</td>\n",
       "      <td>False</td>\n",
       "    </tr>\n",
       "    <tr>\n",
       "      <th>2196</th>\n",
       "      <td>False</td>\n",
       "      <td>False</td>\n",
       "      <td>False</td>\n",
       "      <td>False</td>\n",
       "      <td>False</td>\n",
       "      <td>False</td>\n",
       "      <td>False</td>\n",
       "      <td>False</td>\n",
       "    </tr>\n",
       "    <tr>\n",
       "      <th>2197</th>\n",
       "      <td>False</td>\n",
       "      <td>False</td>\n",
       "      <td>False</td>\n",
       "      <td>False</td>\n",
       "      <td>False</td>\n",
       "      <td>False</td>\n",
       "      <td>False</td>\n",
       "      <td>False</td>\n",
       "    </tr>\n",
       "    <tr>\n",
       "      <th>2198</th>\n",
       "      <td>False</td>\n",
       "      <td>False</td>\n",
       "      <td>False</td>\n",
       "      <td>False</td>\n",
       "      <td>False</td>\n",
       "      <td>False</td>\n",
       "      <td>False</td>\n",
       "      <td>False</td>\n",
       "    </tr>\n",
       "    <tr>\n",
       "      <th>2199</th>\n",
       "      <td>False</td>\n",
       "      <td>False</td>\n",
       "      <td>False</td>\n",
       "      <td>False</td>\n",
       "      <td>False</td>\n",
       "      <td>False</td>\n",
       "      <td>False</td>\n",
       "      <td>False</td>\n",
       "    </tr>\n",
       "  </tbody>\n",
       "</table>\n",
       "<p>2200 rows × 8 columns</p>\n",
       "</div>"
      ],
      "text/plain": [
       "          N      P      K  temperature  humidity     ph  rainfall  label\n",
       "0     False  False  False        False     False  False     False  False\n",
       "1     False  False  False        False     False  False     False  False\n",
       "2     False  False  False        False     False  False     False  False\n",
       "3     False  False  False        False     False  False     False  False\n",
       "4     False  False  False        False     False  False     False  False\n",
       "...     ...    ...    ...          ...       ...    ...       ...    ...\n",
       "2195  False  False  False        False     False  False     False  False\n",
       "2196  False  False  False        False     False  False     False  False\n",
       "2197  False  False  False        False     False  False     False  False\n",
       "2198  False  False  False        False     False  False     False  False\n",
       "2199  False  False  False        False     False  False     False  False\n",
       "\n",
       "[2200 rows x 8 columns]"
      ]
     },
     "execution_count": 2,
     "metadata": {},
     "output_type": "execute_result"
    }
   ],
   "source": [
    "df.isnull()"
   ]
  },
  {
   "cell_type": "code",
   "execution_count": 3,
   "id": "6873e26e",
   "metadata": {},
   "outputs": [
    {
     "data": {
      "text/plain": [
       "apple          100\n",
       "grapes         100\n",
       "chickpea       100\n",
       "pigeonpeas     100\n",
       "muskmelon      100\n",
       "cotton         100\n",
       "blackgram      100\n",
       "papaya         100\n",
       "pomegranate    100\n",
       "watermelon     100\n",
       "jute           100\n",
       "mango          100\n",
       "lentil         100\n",
       "rice           100\n",
       "coffee         100\n",
       "maize          100\n",
       "coconut        100\n",
       "mungbean       100\n",
       "kidneybeans    100\n",
       "orange         100\n",
       "mothbeans      100\n",
       "banana         100\n",
       "Name: label, dtype: int64"
      ]
     },
     "execution_count": 3,
     "metadata": {},
     "output_type": "execute_result"
    }
   ],
   "source": [
    "df['label'].value_counts()"
   ]
  },
  {
   "cell_type": "code",
   "execution_count": 4,
   "id": "eb63911b",
   "metadata": {},
   "outputs": [
    {
     "name": "stdout",
     "output_type": "stream",
     "text": [
      "Average Ratio of Nitrogen in the soil: 50.55\n",
      "Average Ratio of Potesium in the soil: 53.36\n",
      "Average Ratio of Phosphorus in the soil: 48.15\n",
      "Average Ratio of temperature in the Environment for Corps in Celcius: 25.62\n",
      "Average Ratio of humidity in the Environment for Corps: 71.48 %\n",
      "Average Ratio of ph Value in the soil: 6.47\n",
      "Average Ratio of rainfall for the corps: 103.46 MM\n"
     ]
    }
   ],
   "source": [
    "print(\"Average Ratio of Nitrogen in the soil: {0:.2f}\".format(df['N'].mean()))\n",
    "print(\"Average Ratio of Potesium in the soil: {0:.2f}\".format(df['P'].mean()))\n",
    "print(\"Average Ratio of Phosphorus in the soil: {0:.2f}\".format(df['K'].mean()))\n",
    "print(\"Average Ratio of temperature in the Environment for Corps in Celcius: {0:.2f}\".format(df['temperature'].mean()))\n",
    "print(\"Average Ratio of humidity in the Environment for Corps: {0:.2f} %\".format(df['humidity'].mean()))\n",
    "print(\"Average Ratio of ph Value in the soil: {0:.2f}\".format(df['ph'].mean()))\n",
    "print(\"Average Ratio of rainfall for the corps: {0:.2f} MM\".format(df['rainfall'].mean()))"
   ]
  },
  {
   "cell_type": "code",
   "execution_count": 5,
   "id": "e2e5ea52",
   "metadata": {},
   "outputs": [
    {
     "data": {
      "application/vnd.jupyter.widget-view+json": {
       "model_id": "e7deeb7ae39747bd8db60d970d97dc7f",
       "version_major": 2,
       "version_minor": 0
      },
      "text/plain": [
       "interactive(children=(Dropdown(description='corps', options=('apple', 'grapes', 'chickpea', 'pigeonpeas', 'mus…"
      ]
     },
     "metadata": {},
     "output_type": "display_data"
    }
   ],
   "source": [
    "@interact\n",
    "def summary(corps = list(df['label'].value_counts().index)):\n",
    "    c = df[df['label'] == corps]\n",
    "    print(\"------------------------------------------------------------\")\n",
    "    print(\"Statistics of Nitrogen: \")\n",
    "    print(\"Minimum Nitrogen Required: \", c['N'].min())\n",
    "    print(\"Average Nitrogen Required: \", c['N'].mean())\n",
    "    print(\"Maximum Nitrogen Required: \", c['N'].max())\n",
    "    print(\"------------------------------------------------------------\")\n",
    "    print(\"Statistics of Potesium: \")\n",
    "    print(\"Minimum Potesium Required: \", c['P'].min())\n",
    "    print(\"Average Potesium Required: \", c['P'].mean())\n",
    "    print(\"Maximum Potesium Required: \", c['P'].max())\n",
    "    print(\"------------------------------------------------------------\")\n",
    "    print(\"Statistics of Phosphorus: \")\n",
    "    print(\"Minimum Phosphorus Required: {0:.2f}\", c['K'].min())\n",
    "    print(\"Average Phosphorus Required: {0:.2f}\", c['K'].mean())\n",
    "    print(\"Maximum Phosphorus Required: {0:.2f}\", c['K'].max())\n",
    "    print(\"------------------------------------------------------------\")\n",
    "    print(\"Statistics of Potesium: \")\n",
    "    print(\"Minimum temperature Required: {0:.2f}\", c['temperature'].min())\n",
    "    print(\"Average temperature Required: {0:.2f}\", c['temperature'].mean())\n",
    "    print(\"Maximum temperature Required: {0:.2f}\", c['temperature'].max())\n",
    "    print(\"------------------------------------------------------------\")\n",
    "    print(\"Statistics of Potesium: \")\n",
    "    print(\"Minimum humidity Required: {0:.2f}\", c['humidity'].min())\n",
    "    print(\"Average humidity Required: {0:.2f}\", c['humidity'].mean())\n",
    "    print(\"Maximum humidity Required: {0:.2f}\", c['humidity'].max())\n",
    "    print(\"------------------------------------------------------------\")\n",
    "    print(\"Statistics of Potesium: \")\n",
    "    print(\"Minimum ph Required: {0:.2f}\", c['ph'].min())\n",
    "    print(\"Average ph Required: {0:.2f}\", c['ph'].mean())\n",
    "    print(\"Maximum ph Required: {0:.2f}\", c['ph'].max())\n",
    "    print(\"------------------------------------------------------------\")\n",
    "    print(\"Statistics of Potesium: \")\n",
    "    print(\"Minimum rainfall Required: {0:.2f}\", c['rainfall'].min())\n",
    "    print(\"Average rainfall Required: {0:.2f}\", c['rainfall'].mean())\n",
    "    print(\"Maximum rainfall Required: {0:.2f}\", c['rainfall'].max())"
   ]
  },
  {
   "cell_type": "code",
   "execution_count": 6,
   "id": "ca4698fc",
   "metadata": {},
   "outputs": [
    {
     "data": {
      "application/vnd.jupyter.widget-view+json": {
       "model_id": "66527a2eea7d4553b3c3c6bf84c669e2",
       "version_major": 2,
       "version_minor": 0
      },
      "text/plain": [
       "interactive(children=(Dropdown(description='conditions', options=('N', 'P', 'K', 'ph', 'temperature', 'humidit…"
      ]
     },
     "metadata": {},
     "output_type": "display_data"
    }
   ],
   "source": [
    "@interact\n",
    "def compare(conditions = ['N', 'P', 'K', 'ph', 'temperature', 'humidity', 'rainfall']):\n",
    "    print(\"Average Value for\", conditions, \"is {0:.2f}\".format(df[conditions].mean()))\n",
    "    print(\"-----------------------------------------------------------------------------\")\n",
    "    print(\"Rice : {0:.2f}\".format(df[(df['label'] == 'rice')] [conditions].mean()))\n",
    "    print(\"mothbeans : {0:.2f}\".format(df[(df['label'] == 'mothbeans')] [conditions].mean()))\n",
    "    print(\"orange : {0:.2f}\".format(df[(df['label'] == 'orange')] [conditions].mean()))\n",
    "    print(\"muskmelon : {0:.2f}\".format(df[(df['label'] == 'muskmelon')] [conditions].mean()))\n",
    "    print(\"maize : {0:.2f}\".format(df[(df['label'] == 'maize')] [conditions].mean()))\n",
    "    print(\"pomegranate : {0:.2f}\".format(df[(df['label'] == 'pomegranate')] [conditions].mean()))\n",
    "    print(\"cotton : {0:.2f}\".format(df[(df['label'] == 'cotton')] [conditions].mean()))\n",
    "    print(\"coconut : {0:.2f}\".format(df[(df['label'] == 'coconut')] [conditions].mean()))\n",
    "    print(\"lentil : {0:.2f}\".format(df[(df['label'] == 'lentil')] [conditions].mean()))\n",
    "    print(\"banana : {0:.2f}\".format(df[(df['label'] == 'banana')] [conditions].mean()))\n",
    "    print(\"grapes : {0:.2f}\".format(df[(df['label'] == 'grapes')] [conditions].mean()))\n",
    "    print(\"blackgram : {0:.2f}\".format(df[(df['label'] == 'blackgram')] [conditions].mean()))\n",
    "    print(\"mungbean : {0:.2f}\".format(df[(df['label'] == 'mungbean')] [conditions].mean()))\n",
    "    print(\"papaya : {0:.2f}\".format(df[(df['label'] == 'papaya')] [conditions].mean()))\n",
    "    print(\"kidneybeans : {0:.2f}\".format(df[(df['label'] == 'kidneybeans')] [conditions].mean()))\n",
    "    print(\"pigeonpeas : {0:.2f}\".format(df[(df['label'] == 'pigeonpeas')] [conditions].mean()))\n",
    "    print(\"coffee : {0:.2f}\".format(df[(df['label'] == 'coffee')] [conditions].mean()))\n",
    "    print(\"watermelon : {0:.2f}\".format(df[(df['label'] == 'watermelon')] [conditions].mean()))\n",
    "    print(\"mango : {0:.2f}\".format(df[(df['label'] == 'mango')] [conditions].mean()))\n",
    "    print(\"apple : {0:.2f}\".format(df[(df['label'] == 'apple')] [conditions].mean()))\n",
    "    print(\"jute : {0:.2f}\".format(df[(df['label'] == 'jute')] [conditions].mean()))\n",
    "    print(\"chickpea : {0:.2f}\".format(df[(df['label'] == 'chickpea')] [conditions].mean()))\n",
    "    "
   ]
  },
  {
   "cell_type": "code",
   "execution_count": 7,
   "id": "11c814ce",
   "metadata": {},
   "outputs": [
    {
     "data": {
      "application/vnd.jupyter.widget-view+json": {
       "model_id": "07fb5b75a1ee45fcbb4824a133b2d913",
       "version_major": 2,
       "version_minor": 0
      },
      "text/plain": [
       "interactive(children=(Dropdown(description='conditions', options=('N', 'P', 'K', 'temperature', 'humidity', 'r…"
      ]
     },
     "metadata": {},
     "output_type": "display_data"
    }
   ],
   "source": [
    "@interact\n",
    "def compare(conditions = ['N', 'P', 'K', 'temperature', 'humidity', 'rainfall']):\n",
    "    print(\"Average Value for\", conditions, \"is {0:.2f}\".format(df[conditions].mean()),'\\n')\n",
    "    print(\"---------------------------------------------------------------\")\n",
    "    print(\"*Crops which require 'Less' than average \", conditions)\n",
    "    print(df[df[conditions] < df[conditions].mean()] ['label'].unique(),'\\n')\n",
    "    print(\"*Crops which require average \", conditions)\n",
    "    print(df[df[conditions] == df[conditions].mean()] ['label'].unique(),'\\n')\n",
    "    print(\"*Crops which require 'Greater' than average \", conditions)\n",
    "    print(df[df[conditions] > df[conditions].mean()] ['label'].unique(),'\\n')"
   ]
  },
  {
   "cell_type": "code",
   "execution_count": 8,
   "id": "62d5cdca",
   "metadata": {},
   "outputs": [
    {
     "name": "stderr",
     "output_type": "stream",
     "text": [
      "c:\\users\\krishna gupta\\appdata\\local\\programs\\python\\python38\\lib\\site-packages\\seaborn\\distributions.py:2557: FutureWarning: `distplot` is a deprecated function and will be removed in a future version. Please adapt your code to use either `displot` (a figure-level function with similar flexibility) or `histplot` (an axes-level function for histograms).\n",
      "  warnings.warn(msg, FutureWarning)\n",
      "c:\\users\\krishna gupta\\appdata\\local\\programs\\python\\python38\\lib\\site-packages\\seaborn\\distributions.py:2557: FutureWarning: `distplot` is a deprecated function and will be removed in a future version. Please adapt your code to use either `displot` (a figure-level function with similar flexibility) or `histplot` (an axes-level function for histograms).\n",
      "  warnings.warn(msg, FutureWarning)\n",
      "c:\\users\\krishna gupta\\appdata\\local\\programs\\python\\python38\\lib\\site-packages\\seaborn\\distributions.py:2557: FutureWarning: `distplot` is a deprecated function and will be removed in a future version. Please adapt your code to use either `displot` (a figure-level function with similar flexibility) or `histplot` (an axes-level function for histograms).\n",
      "  warnings.warn(msg, FutureWarning)\n",
      "c:\\users\\krishna gupta\\appdata\\local\\programs\\python\\python38\\lib\\site-packages\\seaborn\\distributions.py:2557: FutureWarning: `distplot` is a deprecated function and will be removed in a future version. Please adapt your code to use either `displot` (a figure-level function with similar flexibility) or `histplot` (an axes-level function for histograms).\n",
      "  warnings.warn(msg, FutureWarning)\n",
      "c:\\users\\krishna gupta\\appdata\\local\\programs\\python\\python38\\lib\\site-packages\\seaborn\\distributions.py:2557: FutureWarning: `distplot` is a deprecated function and will be removed in a future version. Please adapt your code to use either `displot` (a figure-level function with similar flexibility) or `histplot` (an axes-level function for histograms).\n",
      "  warnings.warn(msg, FutureWarning)\n",
      "c:\\users\\krishna gupta\\appdata\\local\\programs\\python\\python38\\lib\\site-packages\\seaborn\\distributions.py:2557: FutureWarning: `distplot` is a deprecated function and will be removed in a future version. Please adapt your code to use either `displot` (a figure-level function with similar flexibility) or `histplot` (an axes-level function for histograms).\n",
      "  warnings.warn(msg, FutureWarning)\n",
      "c:\\users\\krishna gupta\\appdata\\local\\programs\\python\\python38\\lib\\site-packages\\seaborn\\distributions.py:2557: FutureWarning: `distplot` is a deprecated function and will be removed in a future version. Please adapt your code to use either `displot` (a figure-level function with similar flexibility) or `histplot` (an axes-level function for histograms).\n",
      "  warnings.warn(msg, FutureWarning)\n"
     ]
    },
    {
     "data": {
      "image/png": "[encoded data removed]",
      "text/plain": [
       "<Figure size 432x288 with 7 Axes>"
      ]
     },
     "metadata": {
      "needs_background": "light"
     },
     "output_type": "display_data"
    }
   ],
   "source": [
    "plt.subplot(2, 4, 1)\n",
    "sns.distplot(df['N'],  color='blue')\n",
    "plt.xlabel('Ratio of Nitrogen', fontsize = 12)\n",
    "plt.grid()\n",
    "\n",
    "plt.subplot(2, 4, 2)\n",
    "sns.distplot(df['P'],  color='red')\n",
    "plt.xlabel('Ratio of Phosphorus', fontsize = 12)\n",
    "plt.grid()\n",
    "\n",
    "plt.subplot(2, 4, 3)\n",
    "sns.distplot(df['K'],  color='green')\n",
    "plt.xlabel('Ratio of Potessium', fontsize = 12)\n",
    "plt.grid()\n",
    "\n",
    "plt.subplot(2, 4, 4)\n",
    "sns.distplot(df['temperature'],  color='purple')\n",
    "plt.xlabel('Ratio of temperature', fontsize = 12)\n",
    "plt.grid()\n",
    "\n",
    "plt.subplot(2, 4, 5)\n",
    "sns.distplot(df['humidity'],  color='pink')\n",
    "plt.xlabel('Ratio of humidity', fontsize = 12)\n",
    "plt.grid()\n",
    "\n",
    "plt.subplot(2, 4, 6)\n",
    "sns.distplot(df['rainfall'],  color='lightgreen')\n",
    "plt.xlabel('Ratio of rainfall', fontsize = 12)\n",
    "plt.grid()\n",
    "\n",
    "plt.subplot(2, 4, 7)\n",
    "sns.distplot(df['ph'],  color='grey')\n",
    "plt.xlabel('Ratio of ph', fontsize = 12)\n",
    "plt.grid()\n",
    "\n",
    "plt.suptitle('Distribution of Agriculture Condition', fontsize=20)\n",
    "plt.show()"
   ]
  },
  {
   "cell_type": "code",
   "execution_count": 9,
   "id": "f3d2db16",
   "metadata": {},
   "outputs": [
    {
     "name": "stdout",
     "output_type": "stream",
     "text": [
      "Some Patterns\n",
      "-----------------------------------------\n",
      "Crops which require high Ratio of N in Soil ['cotton']\n",
      "Crops which require Low Ratio of N in Soil ['rice' 'maize' 'chickpea' 'kidneybeans' 'pigeonpeas' 'mothbeans'\n",
      " 'mungbean' 'blackgram' 'lentil' 'pomegranate' 'banana' 'mango' 'grapes'\n",
      " 'watermelon' 'muskmelon' 'apple' 'orange' 'papaya' 'coconut' 'cotton'\n",
      " 'jute' 'coffee'] \n",
      "\n",
      "Crops which require high Ratio of P in Soil []\n",
      "Crops which require Low Ratio of P in Soil ['rice' 'maize' 'mothbeans' 'mungbean' 'pomegranate' 'mango' 'watermelon'\n",
      " 'muskmelon' 'orange' 'papaya' 'coconut' 'cotton' 'jute' 'coffee'] \n",
      "\n",
      "Crops which require high Ratio of K in Soil ['grapes' 'apple']\n",
      "Crops which require Low Ratio of K in Soil ['rice' 'maize' 'chickpea' 'kidneybeans' 'pigeonpeas' 'mothbeans'\n",
      " 'mungbean' 'blackgram' 'lentil' 'pomegranate' 'banana' 'mango'\n",
      " 'watermelon' 'muskmelon' 'orange' 'papaya' 'coconut' 'cotton' 'jute'\n",
      " 'coffee'] \n",
      "\n",
      "Crops which require high Ratio of temperature in Soil []\n",
      "Crops which require low Ratio of temperature in Soil ['grapes' 'orange'] \n",
      "\n",
      "Crops which require high Ratio of humidity in Soil []\n",
      "Crops which require Low Ratio of humidity in Soil ['chickpea' 'kidneybeans'] \n",
      "\n",
      "Crops which require high Ratio of rainfall in Soil ['rice' 'papaya' 'coconut']\n",
      "Crops which require Low Ratio of rainfall in Soil ['maize' 'chickpea' 'kidneybeans' 'pigeonpeas' 'mothbeans' 'mungbean'\n",
      " 'blackgram' 'lentil' 'pomegranate' 'banana' 'mango' 'grapes' 'watermelon'\n",
      " 'muskmelon' 'apple' 'orange' 'papaya' 'cotton' 'coffee'] \n",
      "\n",
      "Crops which require high Ratio of ph in Soil []\n",
      "Crops which require Low Ratio of ph in Soil ['rice' 'maize' 'chickpea' 'kidneybeans' 'pigeonpeas' 'mothbeans'\n",
      " 'mungbean' 'blackgram' 'lentil' 'pomegranate' 'banana' 'mango' 'grapes'\n",
      " 'watermelon' 'muskmelon' 'apple' 'orange' 'papaya' 'coconut' 'cotton'\n",
      " 'jute' 'coffee'] \n",
      "\n"
     ]
    }
   ],
   "source": [
    "print(\"Some Patterns\")\n",
    "print(\"-----------------------------------------\")\n",
    "print(\"Crops which require high Ratio of N in Soil\", df[df['N'] > 120]['label'].unique())\n",
    "print(\"Crops which require Low Ratio of N in Soil\", df[df['N'] < 120]['label'].unique(), '\\n')\n",
    "print(\"Crops which require high Ratio of P in Soil\", df[df['P'] > 200]['label'].unique())\n",
    "print(\"Crops which require Low Ratio of P in Soil\", df[df['P'] < 50]['label'].unique(), '\\n')\n",
    "print(\"Crops which require high Ratio of K in Soil\", df[df['K'] > 150]['label'].unique())\n",
    "print(\"Crops which require Low Ratio of K in Soil\", df[df['K'] < 80]['label'].unique(), '\\n')\n",
    "print(\"Crops which require high Ratio of temperature in Soil\", df[df['temperature'] > 50]['label'].unique())\n",
    "print(\"Crops which require low Ratio of temperature in Soil\", df[df['temperature'] < 12]['label'].unique(), '\\n')\n",
    "print(\"Crops which require high Ratio of humidity in Soil\", df[df['humidity'] > 120]['label'].unique())\n",
    "print(\"Crops which require Low Ratio of humidity in Soil\", df[df['humidity'] < 20]['label'].unique(), '\\n')\n",
    "print(\"Crops which require high Ratio of rainfall in Soil\", df[df['rainfall'] > 220]['label'].unique())\n",
    "print(\"Crops which require Low Ratio of rainfall in Soil\", df[df['rainfall'] < 120]['label'].unique(), '\\n')\n",
    "print(\"Crops which require high Ratio of ph in Soil\", df[df['ph'] > 120]['label'].unique())\n",
    "print(\"Crops which require Low Ratio of ph in Soil\", df[df['ph'] < 20]['label'].unique(), '\\n')"
   ]
  },
  {
   "cell_type": "code",
   "execution_count": 10,
   "id": "6b19fc81",
   "metadata": {},
   "outputs": [
    {
     "name": "stdout",
     "output_type": "stream",
     "text": [
      "Crops which sowing in Summer \n",
      "['grapes' 'papaya']\n",
      "--------------------------------------------------------------- \n",
      "\n",
      "Crops which sowing in winter \n",
      "['chickpea' 'kidneybeans']\n",
      "--------------------------------------------------------------- \n",
      "\n",
      "Crops which sowing in Rainy \n",
      "['rice']\n",
      "--------------------------------------------------------------- \n",
      "\n"
     ]
    }
   ],
   "source": [
    "print(\"Crops which sowing in Summer \")\n",
    "print(df[(df['temperature'] > 40) & (df['humidity'] >50)]['label'].unique())\n",
    "print(\"---------------------------------------------------------------\", \"\\n\")\n",
    "print(\"Crops which sowing in winter \")\n",
    "print(df[(df['temperature'] < 20) & (df['humidity'] <30)]['label'].unique())\n",
    "print(\"---------------------------------------------------------------\", \"\\n\")\n",
    "print(\"Crops which sowing in Rainy \")\n",
    "print(df[(df['rainfall'] > 250) & (df['humidity'] >50)]['label'].unique())\n",
    "print(\"---------------------------------------------------------------\", \"\\n\")"
   ]
  },
  {
   "cell_type": "code",
   "execution_count": 11,
   "id": "ab759a88",
   "metadata": {},
   "outputs": [
    {
     "name": "stdout",
     "output_type": "stream",
     "text": [
      "(2200, 7)\n"
     ]
    }
   ],
   "source": [
    "from sklearn.cluster import KMeans\n",
    "x = df.drop(['label'], axis=1)\n",
    "x = x.values\n",
    "print(x.shape)"
   ]
  },
  {
   "cell_type": "code",
   "execution_count": 12,
   "id": "679bf022",
   "metadata": {},
   "outputs": [
    {
     "data": {
      "image/png": "[encoded data removed]",
      "text/plain": [
       "<Figure size 720x288 with 1 Axes>"
      ]
     },
     "metadata": {
      "needs_background": "light"
     },
     "output_type": "display_data"
    }
   ],
   "source": [
    "plt.rcParams['figure.figsize'] = (10, 4)\n",
    "wcss = []\n",
    "for i in range (1, 11):\n",
    "    km = KMeans(n_clusters = i, init = 'k-means++', max_iter = 300, n_init = 10, random_state = 0)\n",
    "    km.fit(x)\n",
    "    wcss.append(km.inertia_)\n",
    "    \n",
    "plt.plot(range(1, 11), wcss)\n",
    "plt.title('The Elbow Method', fontsize = 20)\n",
    "plt.xlabel('No. of Clusters')\n",
    "plt.ylabel('wcss')\n",
    "plt.show()"
   ]
  },
  {
   "cell_type": "code",
   "execution_count": 13,
   "id": "ed7c1f9b",
   "metadata": {},
   "outputs": [
    {
     "name": "stdout",
     "output_type": "stream",
     "text": [
      "let's check the Result After Applying the K Means Clustering Analysis \n",
      "\n",
      "Crops in First Cluster:  ['kidneybeans' 'pigeonpeas' 'mothbeans' 'mango']\n",
      "--------------------------------------------------------\n",
      "Crops in Second Cluster:  ['grapes' 'apple']\n",
      "--------------------------------------------------------\n",
      "Crops in Third Cluster:  ['rice' 'papaya' 'jute' 'coffee']\n",
      "--------------------------------------------------------\n",
      "Crops in Fourth Cluster:  ['watermelon' 'muskmelon' 'papaya']\n",
      "--------------------------------------------------------\n"
     ]
    }
   ],
   "source": [
    "#Let's Implement the K Menas Clustering Algorithm to perform clustering analysis\n",
    "km = KMeans(n_clusters = i, init = 'k-means++', max_iter = 300, n_init = 10, random_state = 0)\n",
    "y_means = km.fit_predict(x)\n",
    "\n",
    "#let's find out the results\n",
    "a = df['label']\n",
    "y_means = pd.DataFrame(y_means)\n",
    "z = pd.concat([y_means, a], axis = 1)\n",
    "z = z.rename(columns = {0: 'cluster'})\n",
    "\n",
    "#let's check the clusters of each crops\n",
    "print(\"let's check the Result After Applying the K Means Clustering Analysis \\n\")\n",
    "print(\"Crops in First Cluster: \", z[z['cluster'] == 0]['label'].unique())\n",
    "print(\"--------------------------------------------------------\")\n",
    "print(\"Crops in Second Cluster: \", z[z['cluster'] == 1]['label'].unique())\n",
    "print(\"--------------------------------------------------------\")\n",
    "print(\"Crops in Third Cluster: \", z[z['cluster'] == 2]['label'].unique())\n",
    "print(\"--------------------------------------------------------\")\n",
    "print(\"Crops in Fourth Cluster: \", z[z['cluster'] == 3]['label'].unique())\n",
    "print(\"--------------------------------------------------------\")"
   ]
  },
  {
   "cell_type": "code",
   "execution_count": 14,
   "id": "925f44fe",
   "metadata": {},
   "outputs": [
    {
     "name": "stdout",
     "output_type": "stream",
     "text": [
      "Shape of x:  (2200, 7)\n",
      "Shape of y:  (2200,)\n"
     ]
    }
   ],
   "source": [
    "# Let's Split the Dataset for Predective Modeling\n",
    "y = df['label']\n",
    "x = df.drop(['label'], axis =1)\n",
    "\n",
    "print(\"Shape of x: \", x.shape)\n",
    "print(\"Shape of y: \", y.shape)"
   ]
  },
  {
   "cell_type": "code",
   "execution_count": 15,
   "id": "3d33ad2e",
   "metadata": {},
   "outputs": [
    {
     "name": "stdout",
     "output_type": "stream",
     "text": [
      "The Shape of X train:  (1760, 7)\n",
      "The Shape of X test:  (440, 7)\n",
      "The Shape of Y train:  (1760,)\n",
      "The Shape of Y test:  (440,)\n"
     ]
    }
   ],
   "source": [
    "#Let's Create Training and Testing Set for Validation of Reults\n",
    "from sklearn.model_selection import train_test_split\n",
    "x_train, x_test, y_train, y_test = train_test_split(x, y, test_size = 0.2, random_state = 0)\n",
    "print(\"The Shape of X train: \", x_train.shape)\n",
    "print(\"The Shape of X test: \", x_test.shape)\n",
    "print(\"The Shape of Y train: \", y_train.shape)\n",
    "print(\"The Shape of Y test: \", y_test.shape)\n"
   ]
  },
  {
   "cell_type": "code",
   "execution_count": 16,
   "id": "b05591cb",
   "metadata": {},
   "outputs": [
    {
     "name": "stderr",
     "output_type": "stream",
     "text": [
      "c:\\users\\krishna gupta\\appdata\\local\\programs\\python\\python38\\lib\\site-packages\\sklearn\\linear_model\\_logistic.py:763: ConvergenceWarning: lbfgs failed to converge (status=1):\n",
      "STOP: TOTAL NO. of ITERATIONS REACHED LIMIT.\n",
      "\n",
      "Increase the number of iterations (max_iter) or scale the data as shown in:\n",
      "    https://scikit-learn.org/stable/modules/preprocessing.html\n",
      "Please also refer to the documentation for alternative solver options:\n",
      "    https://scikit-learn.org/stable/modules/linear_model.html#logistic-regression\n",
      "  n_iter_i = _check_optimize_result(\n"
     ]
    }
   ],
   "source": [
    "#Let's Create a predictive model\n",
    "from sklearn.linear_model import LogisticRegression\n",
    "model = LogisticRegression(solver='lbfgs', max_iter=100)\n",
    "model.fit(x_train, y_train)\n",
    "y_pred = model.predict(x_test)"
   ]
  },
  {
   "cell_type": "code",
   "execution_count": 17,
   "id": "699a43e3",
   "metadata": {},
   "outputs": [
    {
     "data": {
      "image/png": "[encoded data removed]",
      "text/plain": [
       "<Figure size 720x720 with 2 Axes>"
      ]
     },
     "metadata": {
      "needs_background": "light"
     },
     "output_type": "display_data"
    }
   ],
   "source": [
    "#Let's Evaluate the model Performance\n",
    "from sklearn.metrics import confusion_matrix\n",
    "\n",
    "#Let's print the Confusion matrix frist\n",
    "plt.rcParams['figure.figsize'] = (10, 10)\n",
    "cm = confusion_matrix(y_test, y_pred)\n",
    "sns.heatmap(cm, annot = True, cmap = 'Wistia')\n",
    "plt.title('Confusion Matrix for logistic regression', fontsize=15)\n",
    "plt.show()"
   ]
  },
  {
   "cell_type": "code",
   "execution_count": 18,
   "id": "9d471c8e",
   "metadata": {
    "scrolled": true
   },
   "outputs": [
    {
     "name": "stdout",
     "output_type": "stream",
     "text": [
      "              precision    recall  f1-score   support\n",
      "\n",
      "       apple       1.00      1.00      1.00        18\n",
      "      banana       1.00      1.00      1.00        18\n",
      "   blackgram       0.86      0.82      0.84        22\n",
      "    chickpea       1.00      1.00      1.00        23\n",
      "     coconut       1.00      1.00      1.00        15\n",
      "      coffee       1.00      1.00      1.00        17\n",
      "      cotton       0.89      1.00      0.94        16\n",
      "      grapes       1.00      1.00      1.00        18\n",
      "        jute       0.84      1.00      0.91        21\n",
      " kidneybeans       1.00      1.00      1.00        20\n",
      "      lentil       0.94      0.94      0.94        17\n",
      "       maize       0.94      0.89      0.91        18\n",
      "       mango       1.00      1.00      1.00        21\n",
      "   mothbeans       0.88      0.92      0.90        25\n",
      "    mungbean       1.00      1.00      1.00        17\n",
      "   muskmelon       1.00      1.00      1.00        23\n",
      "      orange       1.00      1.00      1.00        23\n",
      "      papaya       1.00      0.95      0.98        21\n",
      "  pigeonpeas       1.00      1.00      1.00        22\n",
      " pomegranate       1.00      1.00      1.00        23\n",
      "        rice       1.00      0.84      0.91        25\n",
      "  watermelon       1.00      1.00      1.00        17\n",
      "\n",
      "    accuracy                           0.97       440\n",
      "   macro avg       0.97      0.97      0.97       440\n",
      "weighted avg       0.97      0.97      0.97       440\n",
      "\n"
     ]
    }
   ],
   "source": [
    "#Let's print the Classification Report also\n",
    "from sklearn.metrics import classification_report\n",
    "cr = classification_report(y_test, y_pred)\n",
    "print(cr)"
   ]
  },
  {
   "cell_type": "code",
   "execution_count": 19,
   "id": "c9f7a8d9",
   "metadata": {},
   "outputs": [
    {
     "data": {
      "text/html": [
       "<div>\n",
       "<style scoped>\n",
       "    .dataframe tbody tr th:only-of-type {\n",
       "        vertical-align: middle;\n",
       "    }\n",
       "\n",
       "    .dataframe tbody tr th {\n",
       "        vertical-align: top;\n",
       "    }\n",
       "\n",
       "    .dataframe thead th {\n",
       "        text-align: right;\n",
       "    }\n",
       "</style>\n",
       "<table border=\"1\" class=\"dataframe\">\n",
       "  <thead>\n",
       "    <tr style=\"text-align: right;\">\n",
       "      <th></th>\n",
       "      <th>N</th>\n",
       "      <th>P</th>\n",
       "      <th>K</th>\n",
       "      <th>temperature</th>\n",
       "      <th>humidity</th>\n",
       "      <th>ph</th>\n",
       "      <th>rainfall</th>\n",
       "      <th>label</th>\n",
       "    </tr>\n",
       "  </thead>\n",
       "  <tbody>\n",
       "    <tr>\n",
       "      <th>0</th>\n",
       "      <td>90</td>\n",
       "      <td>42</td>\n",
       "      <td>43</td>\n",
       "      <td>20.879744</td>\n",
       "      <td>82.002744</td>\n",
       "      <td>6.502985</td>\n",
       "      <td>202.935536</td>\n",
       "      <td>rice</td>\n",
       "    </tr>\n",
       "    <tr>\n",
       "      <th>1</th>\n",
       "      <td>85</td>\n",
       "      <td>58</td>\n",
       "      <td>41</td>\n",
       "      <td>21.770462</td>\n",
       "      <td>80.319644</td>\n",
       "      <td>7.038096</td>\n",
       "      <td>226.655537</td>\n",
       "      <td>rice</td>\n",
       "    </tr>\n",
       "    <tr>\n",
       "      <th>2</th>\n",
       "      <td>60</td>\n",
       "      <td>55</td>\n",
       "      <td>44</td>\n",
       "      <td>23.004459</td>\n",
       "      <td>82.320763</td>\n",
       "      <td>7.840207</td>\n",
       "      <td>263.964248</td>\n",
       "      <td>rice</td>\n",
       "    </tr>\n",
       "    <tr>\n",
       "      <th>3</th>\n",
       "      <td>74</td>\n",
       "      <td>35</td>\n",
       "      <td>40</td>\n",
       "      <td>26.491096</td>\n",
       "      <td>80.158363</td>\n",
       "      <td>6.980401</td>\n",
       "      <td>242.864034</td>\n",
       "      <td>rice</td>\n",
       "    </tr>\n",
       "    <tr>\n",
       "      <th>4</th>\n",
       "      <td>78</td>\n",
       "      <td>42</td>\n",
       "      <td>42</td>\n",
       "      <td>20.130175</td>\n",
       "      <td>81.604873</td>\n",
       "      <td>7.628473</td>\n",
       "      <td>262.717340</td>\n",
       "      <td>rice</td>\n",
       "    </tr>\n",
       "  </tbody>\n",
       "</table>\n",
       "</div>"
      ],
      "text/plain": [
       "    N   P   K  temperature   humidity        ph    rainfall label\n",
       "0  90  42  43    20.879744  82.002744  6.502985  202.935536  rice\n",
       "1  85  58  41    21.770462  80.319644  7.038096  226.655537  rice\n",
       "2  60  55  44    23.004459  82.320763  7.840207  263.964248  rice\n",
       "3  74  35  40    26.491096  80.158363  6.980401  242.864034  rice\n",
       "4  78  42  42    20.130175  81.604873  7.628473  262.717340  rice"
      ]
     },
     "execution_count": 19,
     "metadata": {},
     "output_type": "execute_result"
    }
   ],
   "source": [
    "#Check the Head Dataset\n",
    "df.head()"
   ]
  },
  {
   "cell_type": "code",
   "execution_count": 20,
   "id": "c3dc41c7",
   "metadata": {},
   "outputs": [
    {
     "name": "stdout",
     "output_type": "stream",
     "text": [
      "The suggested Crop for Given Climate Condition is:  ['rice']\n"
     ]
    }
   ],
   "source": [
    "prediction = model.predict((np.array([[90, 40, 40, 20, 80, 7, 200]])))\n",
    "print(\"The suggested Crop for Given Climate Condition is: \", prediction)"
   ]
  },
  {
   "cell_type": "code",
   "execution_count": null,
   "id": "a495b47f",
   "metadata": {},
   "outputs": [],
   "source": []
  }
 ],
 "metadata": {
  "kernelspec": {
   "display_name": "Python 3",
   "language": "python",
   "name": "python3"
  },
  "language_info": {
   "codemirror_mode": {
    "name": "ipython",
    "version": 3
   },
   "file_extension": ".py",
   "mimetype": "text/x-python",
   "name": "python",
   "nbconvert_exporter": "python",
   "pygments_lexer": "ipython3",
   "version": "3.8.10"
  }
 },
 "nbformat": 4,
 "nbformat_minor": 5
}
